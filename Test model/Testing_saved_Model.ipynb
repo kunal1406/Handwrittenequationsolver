{
 "cells": [
  {
   "cell_type": "code",
   "execution_count": 1,
   "metadata": {},
   "outputs": [],
   "source": [
    "import pandas as pd\n",
    "import numpy as np"
   ]
  },
  {
   "cell_type": "markdown",
   "metadata": {},
   "source": [
    "# Loading training array and labels"
   ]
  },
  {
   "cell_type": "code",
   "execution_count": 2,
   "metadata": {},
   "outputs": [],
   "source": [
    "import pickle\n",
    "with open('trainingdata_array','rb') as f:\n",
    "    train_array = pickle.load(f)"
   ]
  },
  {
   "cell_type": "code",
   "execution_count": 3,
   "metadata": {},
   "outputs": [],
   "source": [
    "import pickle\n",
    "with open('labels_array','rb') as f:\n",
    "    cat = pickle.load(f)"
   ]
  },
  {
   "cell_type": "code",
   "execution_count": 4,
   "metadata": {},
   "outputs": [
    {
     "data": {
      "text/plain": [
       "(113351, 28, 28, 1)"
      ]
     },
     "execution_count": 4,
     "metadata": {},
     "output_type": "execute_result"
    }
   ],
   "source": [
    "train_array.shape"
   ]
  },
  {
   "cell_type": "code",
   "execution_count": 5,
   "metadata": {},
   "outputs": [],
   "source": [
    "from tensorflow import keras\n",
    "m=keras.models.load_model('model_handwritten')"
   ]
  },
  {
   "cell_type": "code",
   "execution_count": 6,
   "metadata": {},
   "outputs": [
    {
     "name": "stderr",
     "output_type": "stream",
     "text": [
      "C:\\Users\\KUNAL MEHTA\\anaconda3\\envs\\datascience\\lib\\site-packages\\tensorflow\\python\\keras\\engine\\sequential.py:450: UserWarning: `model.predict_classes()` is deprecated and will be removed after 2021-01-01. Please use instead:* `np.argmax(model.predict(x), axis=-1)`,   if your model does multi-class classification   (e.g. if it uses a `softmax` last-layer activation).* `(model.predict(x) > 0.5).astype(\"int32\")`,   if your model does binary classification   (e.g. if it uses a `sigmoid` last-layer activation).\n",
      "  warnings.warn('`model.predict_classes()` is deprecated and '\n"
     ]
    },
    {
     "data": {
      "text/plain": [
       "array([11, 11, 11, ..., 14, 14, 14], dtype=int64)"
      ]
     },
     "execution_count": 6,
     "metadata": {},
     "output_type": "execute_result"
    }
   ],
   "source": [
    "m.predict_classes(train_array)"
   ]
  },
  {
   "cell_type": "code",
   "execution_count": 7,
   "metadata": {},
   "outputs": [],
   "source": [
    "loss, accuracy=m.evaluate(train_array, cat, verbose=0)"
   ]
  },
  {
   "cell_type": "code",
   "execution_count": 8,
   "metadata": {},
   "outputs": [
    {
     "name": "stdout",
     "output_type": "stream",
     "text": [
      "loss:0.051097847521305084\n",
      " accuracy:0.9822497963905334\n"
     ]
    }
   ],
   "source": [
    "print(f\"loss:{loss}\\n accuracy:{accuracy}\")"
   ]
  },
  {
   "cell_type": "code",
   "execution_count": 9,
   "metadata": {},
   "outputs": [],
   "source": [
    "path=r'C:\\Users\\KUNAL MEHTA\\OneDrive\\Desktop\\python\\final_project\\Contours_CNN\\images'"
   ]
  },
  {
   "cell_type": "code",
   "execution_count": 10,
   "metadata": {},
   "outputs": [],
   "source": [
    "def load_images_from_folder(folder):\n",
    "    train_data=[]\n",
    "    for filename in os.listdir(folder):\n",
    "        img=cv2.imread(os.path.join(folder,filename), cv2.IMREAD_GRAYSCALE)\n",
    "        print(os.path.join(folder,filename))\n",
    "        img=~img\n",
    "        if img is not None:\n",
    "            _,thresh= cv2.threshold(img,127,255, cv2.THRESH_BINARY)\n",
    "            ctrs,_=cv2.findContours(thresh, cv2.RETR_EXTERNAL, cv2.CHAIN_APPROX_NONE)\n",
    "            cnt=sorted(ctrs, key=lambda ctr:cv2.boundingRect(ctr)[0])\n",
    "            w=int(28)\n",
    "            h=int(28)\n",
    "            maxi=0\n",
    "            for c in cnt:\n",
    "                x,y,w,h=cv2.boundingRect(c)\n",
    "                maxi=max(w*h, maxi)\n",
    "                if maxi==w*h:\n",
    "                    x_max=x\n",
    "                    y_max=y\n",
    "                    h_max=h\n",
    "                    w_max=w\n",
    "            im_crop=thresh[y_max:y_max+h_max+10, x_max:x_max+w_max+10]\n",
    "            im_resize=cv2.resize(im_crop, (28,28))\n",
    "            im_resize=np.reshape(im_resize, (28,28,1))\n",
    "            train_data.append(im_resize)\n",
    "    return train_data"
   ]
  },
  {
   "cell_type": "code",
   "execution_count": 11,
   "metadata": {},
   "outputs": [
    {
     "name": "stdout",
     "output_type": "stream",
     "text": [
      "C:\\Users\\KUNAL MEHTA\\OneDrive\\Desktop\\python\\final_project\\Contours_CNN\\images\\+.PNG\n",
      "C:\\Users\\KUNAL MEHTA\\OneDrive\\Desktop\\python\\final_project\\Contours_CNN\\images\\+_10.jpg\n",
      "C:\\Users\\KUNAL MEHTA\\OneDrive\\Desktop\\python\\final_project\\Contours_CNN\\images\\+_20.jpg\n",
      "C:\\Users\\KUNAL MEHTA\\OneDrive\\Desktop\\python\\final_project\\Contours_CNN\\images\\+_24.jpg\n",
      "C:\\Users\\KUNAL MEHTA\\OneDrive\\Desktop\\python\\final_project\\Contours_CNN\\images\\+_34.jpg\n",
      "C:\\Users\\KUNAL MEHTA\\OneDrive\\Desktop\\python\\final_project\\Contours_CNN\\images\\+_43.jpg\n",
      "C:\\Users\\KUNAL MEHTA\\OneDrive\\Desktop\\python\\final_project\\Contours_CNN\\images\\,_1327.jpg\n",
      "C:\\Users\\KUNAL MEHTA\\OneDrive\\Desktop\\python\\final_project\\Contours_CNN\\images\\,_584.jpg\n",
      "C:\\Users\\KUNAL MEHTA\\OneDrive\\Desktop\\python\\final_project\\Contours_CNN\\images\\,_624.jpg\n",
      "C:\\Users\\KUNAL MEHTA\\OneDrive\\Desktop\\python\\final_project\\Contours_CNN\\images\\,_626.jpg\n",
      "C:\\Users\\KUNAL MEHTA\\OneDrive\\Desktop\\python\\final_project\\Contours_CNN\\images\\,_985.jpg\n",
      "C:\\Users\\KUNAL MEHTA\\OneDrive\\Desktop\\python\\final_project\\Contours_CNN\\images\\-_262.jpg\n",
      "C:\\Users\\KUNAL MEHTA\\OneDrive\\Desktop\\python\\final_project\\Contours_CNN\\images\\-_87.jpg\n",
      "C:\\Users\\KUNAL MEHTA\\OneDrive\\Desktop\\python\\final_project\\Contours_CNN\\images\\-_88.jpg\n",
      "C:\\Users\\KUNAL MEHTA\\OneDrive\\Desktop\\python\\final_project\\Contours_CNN\\images\\-_89.jpg\n",
      "C:\\Users\\KUNAL MEHTA\\OneDrive\\Desktop\\python\\final_project\\Contours_CNN\\images\\-_92.jpg\n",
      "C:\\Users\\KUNAL MEHTA\\OneDrive\\Desktop\\python\\final_project\\Contours_CNN\\images\\1.PNG\n",
      "C:\\Users\\KUNAL MEHTA\\OneDrive\\Desktop\\python\\final_project\\Contours_CNN\\images\\2.PNG\n",
      "C:\\Users\\KUNAL MEHTA\\OneDrive\\Desktop\\python\\final_project\\Contours_CNN\\images\\2a.jpg\n",
      "C:\\Users\\KUNAL MEHTA\\OneDrive\\Desktop\\python\\final_project\\Contours_CNN\\images\\3.PNG\n",
      "C:\\Users\\KUNAL MEHTA\\OneDrive\\Desktop\\python\\final_project\\Contours_CNN\\images\\4.PNG\n",
      "C:\\Users\\KUNAL MEHTA\\OneDrive\\Desktop\\python\\final_project\\Contours_CNN\\images\\4a.PNG\n",
      "C:\\Users\\KUNAL MEHTA\\OneDrive\\Desktop\\python\\final_project\\Contours_CNN\\images\\4b.PNG\n",
      "C:\\Users\\KUNAL MEHTA\\OneDrive\\Desktop\\python\\final_project\\Contours_CNN\\images\\4c.PNG\n",
      "C:\\Users\\KUNAL MEHTA\\OneDrive\\Desktop\\python\\final_project\\Contours_CNN\\images\\4d.jpg\n",
      "C:\\Users\\KUNAL MEHTA\\OneDrive\\Desktop\\python\\final_project\\Contours_CNN\\images\\4e.jpg\n",
      "C:\\Users\\KUNAL MEHTA\\OneDrive\\Desktop\\python\\final_project\\Contours_CNN\\images\\5.PNG\n",
      "C:\\Users\\KUNAL MEHTA\\OneDrive\\Desktop\\python\\final_project\\Contours_CNN\\images\\mul.PNG\n"
     ]
    }
   ],
   "source": [
    "import cv2\n",
    "import os\n",
    "train_data=np.array(load_images_from_folder(path))"
   ]
  },
  {
   "cell_type": "code",
   "execution_count": 12,
   "metadata": {},
   "outputs": [
    {
     "data": {
      "text/plain": [
       "(28, 28, 28, 1)"
      ]
     },
     "execution_count": 12,
     "metadata": {},
     "output_type": "execute_result"
    }
   ],
   "source": [
    "train_data.shape"
   ]
  },
  {
   "cell_type": "code",
   "execution_count": 13,
   "metadata": {},
   "outputs": [
    {
     "data": {
      "text/plain": [
       "array([11, 11, 11, 11, 11, 11,  7,  4,  4,  4,  0, 16, 16, 16, 16, 16, 15,\n",
       "       15, 15, 15, 15,  4, 15, 16,  4, 15, 15, 15], dtype=int64)"
      ]
     },
     "execution_count": 13,
     "metadata": {},
     "output_type": "execute_result"
    }
   ],
   "source": [
    "m.predict_classes(train_data)"
   ]
  },
  {
   "cell_type": "markdown",
   "metadata": {},
   "source": [
    "'div':'10'\n",
    "'+':'11'\n",
    "'-':\"12\"\n",
    "'mul':'13'\n",
    "'^':'14'\n",
    "'log':\"15\"\n",
    "'=':'16'"
   ]
  },
  {
   "cell_type": "code",
   "execution_count": 77,
   "metadata": {},
   "outputs": [
    {
     "data": {
      "image/png": "[encoded data removed]",
      "text/plain": [
       "<Figure size 432x288 with 1 Axes>"
      ]
     },
     "metadata": {
      "needs_background": "light"
     },
     "output_type": "display_data"
    },
    {
     "name": "stdout",
     "output_type": "stream",
     "text": [
      "rects [[66, 68, 9, 107], [157, 70, 75, 96], [296, 67, 51, 93]]\n",
      "bools [[0, 0, 0], [0, 0, 0], [0, 0, 0]]\n"
     ]
    }
   ],
   "source": [
    "import matplotlib.pyplot as plt\n",
    "import cv2\n",
    "img=cv2.imread(r\"C:\\Users\\KUNAL MEHTA\\OneDrive\\Desktop\\python\\Handwrittenequationsolver\\images\\1mul3.PNG\", cv2.IMREAD_GRAYSCALE)\n",
    "plt.imshow(img)\n",
    "plt.show()\n",
    "\n",
    "\n",
    "img=~img\n",
    "_,thresh=cv2.threshold(img,127,255, cv2.THRESH_BINARY)\n",
    "ctrs,_=cv2.findContours(thresh, cv2.RETR_TREE, cv2.CHAIN_APPROX_SIMPLE)\n",
    "cnt=sorted(ctrs,key=lambda ctr:cv2.boundingRect(ctr)[0])\n",
    "w=int(28)\n",
    "h=int(28)\n",
    "train_data=[]\n",
    "rects=[]\n",
    "for c in cnt:\n",
    "    x,y,w,h= cv2.boundingRect(c)\n",
    "    rect=[x,y,w,h]\n",
    "    rects.append(rect)\n",
    "print(\"rects\", rects)\n",
    "bool_rect=[]\n",
    "for r in rects:\n",
    "    l=[]\n",
    "    for rec in rects:\n",
    "        flag=0\n",
    "        if rec!=r:\n",
    "            if r[0]<(rec[0]+rec[2]+10) and rec[0]<(r[0]+r[2]+10) and r[1]<(rec[1]+rec[3]+10) and rec[1]<(r[1]+r[3]+10):\n",
    "                flag=1\n",
    "            l.append(flag)\n",
    "        if rec==r:\n",
    "            l.append(0)\n",
    "    bool_rect.append(l)\n",
    "print(\"bools\", bool_rect)\n",
    "\n",
    "\n",
    "    "
   ]
  },
  {
   "cell_type": "code",
   "execution_count": 78,
   "metadata": {},
   "outputs": [
    {
     "name": "stdout",
     "output_type": "stream",
     "text": [
      "dump_rects []\n",
      "final_rects [[66, 68, 9, 107], [157, 70, 75, 96], [296, 67, 51, 93]]\n"
     ]
    },
    {
     "data": {
      "image/png": "[encoded data removed]",
      "text/plain": [
       "<Figure size 432x288 with 1 Axes>"
      ]
     },
     "metadata": {
      "needs_background": "light"
     },
     "output_type": "display_data"
    },
    {
     "data": {
      "image/png": "[encoded data removed]",
      "text/plain": [
       "<Figure size 432x288 with 1 Axes>"
      ]
     },
     "metadata": {
      "needs_background": "light"
     },
     "output_type": "display_data"
    },
    {
     "data": {
      "image/png": "[encoded data removed]",
      "text/plain": [
       "<Figure size 432x288 with 1 Axes>"
      ]
     },
     "metadata": {
      "needs_background": "light"
     },
     "output_type": "display_data"
    }
   ],
   "source": [
    "dump_rect=[]\n",
    "for i in range(0, len(cnt)):\n",
    "    for j in range(0, len(cnt)):\n",
    "        if bool_rect[i][j]==1:\n",
    "            area1=rects[i][2]*rects[i][3]\n",
    "            area2=rects[j][2]*rects[j][3]\n",
    "            if(area1==min(area1, area2)):\n",
    "                dump_rect.append(rects[i])\n",
    "print(\"dump_rects\", dump_rect)\n",
    "final_rects=[i for i in rects if i not in dump_rect]\n",
    "print(\"final_rects\", final_rects)\n",
    "for r in final_rects:\n",
    "    x=r[0]\n",
    "    y=r[1]\n",
    "    w=r[2]\n",
    "    h=r[3]\n",
    "    im_crop=thresh[y:y+h+15, x:x+w+15]\n",
    "    im_resize=cv2.resize(im_crop,(28,28))\n",
    "    train_data.append(im_resize)\n",
    "    plt.imshow(im_resize)\n",
    "    plt.show()"
   ]
  },
  {
   "cell_type": "code",
   "execution_count": 79,
   "metadata": {},
   "outputs": [
    {
     "name": "stdout",
     "output_type": "stream",
     "text": [
      "1*3\n"
     ]
    }
   ],
   "source": [
    "s=\"\"\n",
    "for i in range(len(train_data)):\n",
    "    train_data[i]-np.array(train_data[i])\n",
    "    train_data[i]=train_data[i].reshape(1,28,28,1)\n",
    "    result=m.predict_classes(train_data[i])\n",
    "    if(result[0]==10):\n",
    "        s=s+\"/\"\n",
    "    if(result[0]==11):\n",
    "        s=s+\"+\"\n",
    "    if(result[0]==12):\n",
    "        s=s+\"-\"\n",
    "    if(result[0]==13):\n",
    "        s=s+\"*\"\n",
    "    if(result[0]==14):\n",
    "        s=s+\"**\"\n",
    "    if(result[0]==15):\n",
    "        s=s+\"log\"\n",
    "    if(result[0]==16):\n",
    "        s=s+\"=\"\n",
    "        \n",
    "    if(result[0]==1):\n",
    "        s=s+\"1\"\n",
    "    if(result[0]==2):\n",
    "        s=s+\"2\"\n",
    "    if(result[0]==3):\n",
    "        s=s+\"3\"\n",
    "    if(result[0]==4):\n",
    "        s=s+\"4\"\n",
    "    if(result[0]==5):\n",
    "        s=s+\"5\"\n",
    "    if(result[0]==6):\n",
    "        s=s+\"6\"\n",
    "    if(result[0]==7):\n",
    "        s=s+\"7\"\n",
    "    if(result[0]==8):\n",
    "        s=s+\"8\"\n",
    "    if(result[0]==9):\n",
    "        s=s+\"9\"\n",
    "    if(result[0]==0):\n",
    "        s=s+\"0\"\n",
    "print(s)"
   ]
  },
  {
   "cell_type": "code",
   "execution_count": 80,
   "metadata": {},
   "outputs": [
    {
     "data": {
      "text/plain": [
       "3"
      ]
     },
     "execution_count": 80,
     "metadata": {},
     "output_type": "execute_result"
    }
   ],
   "source": [
    "eval(s)"
   ]
  }
 ],
 "metadata": {
  "kernelspec": {
   "display_name": "Python 3",
   "language": "python",
   "name": "python3"
  },
  "language_info": {
   "codemirror_mode": {
    "name": "ipython",
    "version": 3
   },
   "file_extension": ".py",
   "mimetype": "text/x-python",
   "name": "python",
   "nbconvert_exporter": "python",
   "pygments_lexer": "ipython3",
   "version": "3.8.8"
  }
 },
 "nbformat": 4,
 "nbformat_minor": 4
}
